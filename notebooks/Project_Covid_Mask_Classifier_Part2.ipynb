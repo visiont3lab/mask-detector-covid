{
  "nbformat": 4,
  "nbformat_minor": 0,
  "metadata": {
    "colab": {
      "name": "Project_Covid_Mask_Classifier_Part2.ipynb",
      "provenance": [],
      "collapsed_sections": [],
      "authorship_tag": "ABX9TyPcvGDNpyzhAwL/POa8qKA6",
      "include_colab_link": true
    },
    "kernelspec": {
      "name": "python3",
      "display_name": "Python 3"
    },
    "language_info": {
      "name": "python"
    }
  },
  "cells": [
    {
      "cell_type": "markdown",
      "metadata": {
        "id": "view-in-github",
        "colab_type": "text"
      },
      "source": [
        "<a href=\"https://colab.research.google.com/github/visiont3lab/mask-detector-covid/blob/main/notebooks/Project_Covid_Mask_Classifier_Part2.ipynb\" target=\"_parent\"><img src=\"https://colab.research.google.com/assets/colab-badge.svg\" alt=\"Open In Colab\"/></a>"
      ]
    },
    {
      "cell_type": "code",
      "metadata": {
        "colab": {
          "base_uri": "https://localhost:8080/"
        },
        "id": "zP_WGTxW_fDr",
        "outputId": "78bc5bbf-c4c0-4bf5-9512-07d3efe00c43"
      },
      "source": [
        "# Get data\n",
        "!git clone https://github.com/visiont3lab/mask-detector-covid.git"
      ],
      "execution_count": null,
      "outputs": [
        {
          "output_type": "stream",
          "name": "stdout",
          "text": [
            "Cloning into 'mask-detector-covid'...\n",
            "remote: Enumerating objects: 83, done.\u001b[K\n",
            "remote: Counting objects: 100% (83/83), done.\u001b[K\n",
            "remote: Compressing objects: 100% (62/62), done.\u001b[K\n",
            "remote: Total 83 (delta 43), reused 37 (delta 18), pack-reused 0\u001b[K\n",
            "Unpacking objects: 100% (83/83), done.\n"
          ]
        }
      ]
    },
    {
      "cell_type": "code",
      "metadata": {
        "id": "sS2HI3kpFL_G"
      },
      "source": [
        "# Haar cascade files\n",
        "#!git clone https://github.com/anaustinbeing/haar-cascade-files.git"
      ],
      "execution_count": null,
      "outputs": []
    },
    {
      "cell_type": "code",
      "metadata": {
        "id": "RSMZrLXC_mcO",
        "outputId": "17ead0cf-d583-4a16-b9a7-9dccf81cadfb",
        "colab": {
          "base_uri": "https://localhost:8080/"
        }
      },
      "source": [
        "import cv2\n",
        "from PIL import Image\n",
        "import numpy as np\n",
        "import shutil\n",
        "import os\n",
        "from datetime import datetime\n",
        "\n",
        "try:\n",
        "  os.makedirs(\"images\")\n",
        "except:\n",
        "  print(\"The folder already exist\")\n",
        "\n",
        "def rotate(image, angle, center=None, scale=1.0):\n",
        "    # grab the dimensions of the image\n",
        "    (h, w) = image.shape[:2]\n",
        "\n",
        "    # if the center is None, initialize it as the center of\n",
        "    # the image\n",
        "    if center is None:\n",
        "        center = (w // 2, h // 2)\n",
        "\n",
        "    # perform the rotation\n",
        "    M = cv2.getRotationMatrix2D(center, angle, scale)\n",
        "    rotated = cv2.warpAffine(image, M, (w, h))\n",
        "\n",
        "    # return the rotated image\n",
        "    return rotated\n",
        "\n",
        "def  findLargestBB(bbs):\n",
        "  areas = [w*h for x,y,w,h in bbs]\n",
        "  if not areas:\n",
        "      return False, None\n",
        "  else:\n",
        "      i_biggest = np.argmax(areas) \n",
        "      biggest = bbs[i_biggest]\n",
        "      return True, biggest\n",
        "\n",
        "cap = cv2.VideoCapture(\"mask-detector-covid/data/video.mp4\")\n",
        "\n",
        "if (cap.isOpened()== False): \n",
        "  print(\"Error opening video stream or file\")\n",
        "\n",
        "model_face = cv2.CascadeClassifier('mask-detector-covid/models/haar-cascade-files/haarcascade_frontalface_default.xml')\n",
        "\n",
        "while(cap.isOpened()):\n",
        "\n",
        "  # lettura immagine\n",
        "  ret, frame = cap.read()\n",
        "  \n",
        "  # coversione immagine da BGR a RGB\n",
        "  frame = cv2.cvtColor(frame, cv2.COLOR_BGR2RGB)\n",
        "  #frame = cv2.cvtColor(frame, cv2.COLOR_RGB2GRAY)\n",
        "  \n",
        "  # Rotazione dell'immagine\n",
        "  frame = rotate(frame, -90)\n",
        "\n",
        "  # Trova tutte le facce nell'immagine\n",
        "  faces = model_face.detectMultiScale(frame,scaleFactor=1.05,minNeighbors=4, flags=cv2.CASCADE_DO_ROUGH_SEARCH | cv2.CASCADE_SCALE_IMAGE)\n",
        "  \n",
        "  # Trova la faccia piu grande (area piu grande)\n",
        "  ret, facebig = findLargestBB(faces)\n",
        "\n",
        "  # Per ogni faccia fai qualcosa\n",
        "  if ret == True:\n",
        "\n",
        "    # Extra coordiante of largest image\n",
        "    x,y,w,h = facebig\n",
        "    \n",
        "    # Crop image \n",
        "    roi = frame[y:y+h,x:x+w]\n",
        "\n",
        "    date = datetime.now()\n",
        "    date = date.strftime(\"%d-%m-%Y_%H-%M-%S\")\n",
        "    roi = cv2.cvtColor(roi, cv2.COLOR_RGB2BGR)\n",
        "    cv2.imwrite(os.path.join(\"images\",date+\".png\"), roi)\n",
        "    # Disegna il quadrato\n",
        "    #cv2.rectangle(frame,(x,y),(x+w,y+h),(255,0,0),2)\n",
        "\n",
        "    # Solo sul vostro pc\n",
        "    #cv2.imshow(\"Image\", roi)\n",
        "    #cv2.waitKey(33)\n",
        "\n",
        "    # In colab o jupyter\n",
        "    #frame = cv2.resize(frame, (128,128))\n",
        "    #im_pil = Image.fromarray(roi)\n",
        "    #display(im_pil)\n"
      ],
      "execution_count": null,
      "outputs": [
        {
          "output_type": "stream",
          "name": "stdout",
          "text": [
            "The folder already exist\n"
          ]
        }
      ]
    },
    {
      "cell_type": "markdown",
      "source": [
        "## Test haar cascade"
      ],
      "metadata": {
        "id": "hkCxmqkBjhEY"
      }
    },
    {
      "cell_type": "code",
      "source": [
        "from IPython.display import display, Javascript\n",
        "from google.colab.output import eval_js\n",
        "from base64 import b64decode\n",
        "\n",
        "def take_photo(filename='photo.jpg', quality=0.8):\n",
        "  js = Javascript('''\n",
        "    async function takePhoto(quality) {\n",
        "      const div = document.createElement('div');\n",
        "      const capture = document.createElement('button');\n",
        "      capture.textContent = 'Capture';\n",
        "      div.appendChild(capture);\n",
        "\n",
        "      const video = document.createElement('video');\n",
        "      video.style.display = 'block';\n",
        "      const stream = await navigator.mediaDevices.getUserMedia({video: true});\n",
        "\n",
        "      document.body.appendChild(div);\n",
        "      div.appendChild(video);\n",
        "      video.srcObject = stream;\n",
        "      await video.play();\n",
        "\n",
        "      // Resize the output to fit the video element.\n",
        "      google.colab.output.setIframeHeight(document.documentElement.scrollHeight, true);\n",
        "\n",
        "      // Wait for Capture to be clicked.\n",
        "      await new Promise((resolve) => capture.onclick = resolve);\n",
        "\n",
        "      const canvas = document.createElement('canvas');\n",
        "      canvas.width = video.videoWidth;\n",
        "      canvas.height = video.videoHeight;\n",
        "      canvas.getContext('2d').drawImage(video, 0, 0);\n",
        "      stream.getVideoTracks()[0].stop();\n",
        "      div.remove();\n",
        "      return canvas.toDataURL('image/jpeg', quality);\n",
        "    }\n",
        "    ''')\n",
        "  display(js)\n",
        "  data = eval_js('takePhoto({})'.format(quality))\n",
        "  binary = b64decode(data.split(',')[1])\n",
        "  with open(filename, 'wb') as f:\n",
        "    f.write(binary)\n",
        "  return filename"
      ],
      "metadata": {
        "id": "S8shvslBjsD1"
      },
      "execution_count": null,
      "outputs": []
    },
    {
      "cell_type": "code",
      "source": [
        "from IPython.display import Image\n",
        "try:\n",
        "  filename = take_photo()\n",
        "  print('Saved to {}'.format(filename))\n",
        "  \n",
        "  # Show the image which was just taken.\n",
        "  display(Image(filename))\n",
        "except Exception as err:\n",
        "  # Errors will be thrown if the user does not have a webcam or if they do not\n",
        "  # grant the page permission to access it.\n",
        "  print(str(err))"
      ],
      "metadata": {
        "id": "aMZH_8xEjsD3"
      },
      "execution_count": null,
      "outputs": []
    },
    {
      "cell_type": "code",
      "source": [
        "import cv2\n",
        "from PIL import Image\n",
        "\n",
        "im = cv2.imread(\"/content/photo.jpg\",1) # 0 grayscale and 1 color\n",
        "im = cv2.cvtColor(im, cv2.COLOR_BGR2RGB) # BGR --> RGB\n",
        "gray = cv2.cvtColor(im, cv2.COLOR_RGB2GRAY) # BGR --> RGB\n",
        "\n",
        "#im = cv2.resize(im, (64,64))\n",
        "\n",
        "# load a model\n",
        "cl = cv2.CascadeClassifier(\"/content/covid-mask-classifier/models/haarcascade/haarcascade_frontalface_default.xml\")\n",
        "\n",
        "faces = cl.detectMultiScale( gray, scaleFactor=1.05, minNeighbors=5,minSize=(30, 30), flags=cv2.CASCADE_SCALE_IMAGE)\n",
        "for (x, y, w, h) in faces:\n",
        "  \n",
        "  # Process\n",
        "  im_p = im.copy()\n",
        "  roi = im_p[y:y+h,x:x+w]\n",
        "\n",
        "\n",
        "  cv2.rectangle(im, (x,y), (x+w,y+h) ,(0, 255, 0), 2)\n",
        "\n",
        "  display( Image.fromarray(roi) ) # RGB\n",
        "\n",
        "# cv2.IMREAD_GRAYSCALE, cv2.IMREAD_COLOR, cv2.IMREAD_UNCHAGED\n",
        "# --> 0 - 255 --_> 215 x 215\n",
        "\n",
        "display( Image.fromarray(im) ) # RGB\n",
        "\n",
        "im = cv2.cvtColor(im, cv2.COLOR_RGB2BGR) # RGB --> BGR\n",
        "cv2.imwrite(\"manuel.png\",im) # BGR"
      ],
      "metadata": {
        "id": "t43ohPNvjeCx"
      },
      "execution_count": null,
      "outputs": []
    },
    {
      "cell_type": "markdown",
      "source": [
        "## OS Shutil "
      ],
      "metadata": {
        "id": "qfOhiySNzvdC"
      }
    },
    {
      "cell_type": "code",
      "metadata": {
        "id": "3tPtj5359swC"
      },
      "source": [
        "import os\n",
        "import shutil\n",
        "folder_path = os.path.join(\"mask-detector-covid\", \"dataset\", \"mask\")\n",
        "names = os.listdir(folder_path)\n",
        "for name in names:\n",
        "  im = cv2.imread( os.path.join(folder_path, name) ,1 )\n",
        "  display(Image.fromarray(im))\n",
        "  break\n",
        "\n",
        "try:\n",
        "  os.makedirs(\"test\")\n",
        "except:\n",
        "  print(\"I am unable to do this thing\")\n",
        "shutil.rmtree(\"test\")"
      ],
      "execution_count": null,
      "outputs": []
    },
    {
      "cell_type": "code",
      "source": [
        "from datetime import datetime\n",
        "date = datetime.now()\n",
        "date.strftime(\"%d-%m-%Y_%H-%M-%S\")"
      ],
      "metadata": {
        "id": "2mmyYwtXz2RO"
      },
      "execution_count": null,
      "outputs": []
    }
  ]
}